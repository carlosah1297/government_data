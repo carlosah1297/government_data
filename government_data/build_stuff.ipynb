{
 "cells": [
  {
   "cell_type": "code",
   "execution_count": 2,
   "metadata": {},
   "outputs": [],
   "source": [
    "import pandas as pd"
   ]
  },
  {
   "cell_type": "code",
   "execution_count": 3,
   "metadata": {},
   "outputs": [
    {
     "name": "stderr",
     "output_type": "stream",
     "text": [
      "C:\\Users\\david\\AppData\\Local\\Temp\\ipykernel_980\\2835524817.py:1: DtypeWarning: Columns (53,54,55,56,58,59,60,61,62,63,64,65) have mixed types. Specify dtype option on import or set low_memory=False.\n",
      "  permits_df = pd.read_csv('Issued_Construction_Permits.csv')\n"
     ]
    }
   ],
   "source": [
    "permits_df = pd.read_csv('Issued_Construction_Permits.csv')"
   ]
  },
  {
   "cell_type": "code",
   "execution_count": 4,
   "metadata": {},
   "outputs": [
    {
     "data": {
      "text/html": [
       "<div>\n",
       "<style scoped>\n",
       "    .dataframe tbody tr th:only-of-type {\n",
       "        vertical-align: middle;\n",
       "    }\n",
       "\n",
       "    .dataframe tbody tr th {\n",
       "        vertical-align: top;\n",
       "    }\n",
       "\n",
       "    .dataframe thead th {\n",
       "        text-align: right;\n",
       "    }\n",
       "</style>\n",
       "<table border=\"1\" class=\"dataframe\">\n",
       "  <thead>\n",
       "    <tr style=\"text-align: right;\">\n",
       "      <th></th>\n",
       "      <th>Permit Type</th>\n",
       "      <th>Permit Type Desc</th>\n",
       "      <th>Permit Num</th>\n",
       "      <th>Permit Class Mapped</th>\n",
       "      <th>Permit Class</th>\n",
       "      <th>Work Class</th>\n",
       "      <th>Condominium</th>\n",
       "      <th>Project Name</th>\n",
       "      <th>Description</th>\n",
       "      <th>TCAD ID</th>\n",
       "      <th>...</th>\n",
       "      <th>Contractor Zip</th>\n",
       "      <th>Applicant Full Name</th>\n",
       "      <th>Applicant Organization</th>\n",
       "      <th>Applicant Phone</th>\n",
       "      <th>Applicant Address 1</th>\n",
       "      <th>Applicant Address 2</th>\n",
       "      <th>Applicant City</th>\n",
       "      <th>Applicant Zip</th>\n",
       "      <th>Certificate Of Occupancy</th>\n",
       "      <th>Total Lot SQFT</th>\n",
       "    </tr>\n",
       "  </thead>\n",
       "  <tbody>\n",
       "    <tr>\n",
       "      <th>0</th>\n",
       "      <td>PP</td>\n",
       "      <td>Plumbing Permit</td>\n",
       "      <td>2023-018509 PP</td>\n",
       "      <td>Commercial</td>\n",
       "      <td>Commercial</td>\n",
       "      <td>New</td>\n",
       "      <td>No</td>\n",
       "      <td>12733 TESLA ROAD</td>\n",
       "      <td>Natural Gas for Die Cast Machines 50000 sqft n...</td>\n",
       "      <td>0315410104</td>\n",
       "      <td>...</td>\n",
       "      <td>78704</td>\n",
       "      <td>NaN</td>\n",
       "      <td>NaN</td>\n",
       "      <td>NaN</td>\n",
       "      <td>NaN</td>\n",
       "      <td>NaN</td>\n",
       "      <td>NaN</td>\n",
       "      <td>NaN</td>\n",
       "      <td>No</td>\n",
       "      <td>NaN</td>\n",
       "    </tr>\n",
       "    <tr>\n",
       "      <th>1</th>\n",
       "      <td>PP</td>\n",
       "      <td>Plumbing Permit</td>\n",
       "      <td>1980-000948 PP</td>\n",
       "      <td>Commercial</td>\n",
       "      <td>NaN</td>\n",
       "      <td>New</td>\n",
       "      <td>No</td>\n",
       "      <td>13618 Long Meadow Drive             R  00000</td>\n",
       "      <td>M H</td>\n",
       "      <td>NaN</td>\n",
       "      <td>...</td>\n",
       "      <td>NaN</td>\n",
       "      <td>NaN</td>\n",
       "      <td>NaN</td>\n",
       "      <td>NaN</td>\n",
       "      <td>NaN</td>\n",
       "      <td>NaN</td>\n",
       "      <td>NaN</td>\n",
       "      <td>NaN</td>\n",
       "      <td>No</td>\n",
       "      <td>NaN</td>\n",
       "    </tr>\n",
       "    <tr>\n",
       "      <th>2</th>\n",
       "      <td>PP</td>\n",
       "      <td>Plumbing Permit</td>\n",
       "      <td>1982-013888 PP</td>\n",
       "      <td>Commercial</td>\n",
       "      <td>NaN</td>\n",
       "      <td>New</td>\n",
       "      <td>No</td>\n",
       "      <td>708 Dessau Road                   C  00000</td>\n",
       "      <td>Install Water</td>\n",
       "      <td>NaN</td>\n",
       "      <td>...</td>\n",
       "      <td>NaN</td>\n",
       "      <td>NaN</td>\n",
       "      <td>NaN</td>\n",
       "      <td>NaN</td>\n",
       "      <td>NaN</td>\n",
       "      <td>NaN</td>\n",
       "      <td>NaN</td>\n",
       "      <td>NaN</td>\n",
       "      <td>No</td>\n",
       "      <td>NaN</td>\n",
       "    </tr>\n",
       "  </tbody>\n",
       "</table>\n",
       "<p>3 rows × 68 columns</p>\n",
       "</div>"
      ],
      "text/plain": [
       "  Permit Type Permit Type Desc      Permit Num Permit Class Mapped  \\\n",
       "0          PP  Plumbing Permit  2023-018509 PP          Commercial   \n",
       "1          PP  Plumbing Permit  1980-000948 PP          Commercial   \n",
       "2          PP  Plumbing Permit  1982-013888 PP          Commercial   \n",
       "\n",
       "  Permit Class Work Class Condominium  \\\n",
       "0   Commercial        New          No   \n",
       "1          NaN        New          No   \n",
       "2          NaN        New          No   \n",
       "\n",
       "                                   Project Name  \\\n",
       "0                              12733 TESLA ROAD   \n",
       "1  13618 Long Meadow Drive             R  00000   \n",
       "2    708 Dessau Road                   C  00000   \n",
       "\n",
       "                                         Description     TCAD ID  ...  \\\n",
       "0  Natural Gas for Die Cast Machines 50000 sqft n...  0315410104  ...   \n",
       "1                                                M H         NaN  ...   \n",
       "2                                      Install Water         NaN  ...   \n",
       "\n",
       "  Contractor Zip Applicant Full Name Applicant Organization Applicant Phone  \\\n",
       "0          78704                 NaN                    NaN             NaN   \n",
       "1            NaN                 NaN                    NaN             NaN   \n",
       "2            NaN                 NaN                    NaN             NaN   \n",
       "\n",
       "   Applicant Address 1  Applicant Address 2 Applicant City Applicant Zip  \\\n",
       "0                  NaN                  NaN            NaN           NaN   \n",
       "1                  NaN                  NaN            NaN           NaN   \n",
       "2                  NaN                  NaN            NaN           NaN   \n",
       "\n",
       "  Certificate Of Occupancy Total Lot SQFT  \n",
       "0                       No            NaN  \n",
       "1                       No            NaN  \n",
       "2                       No            NaN  \n",
       "\n",
       "[3 rows x 68 columns]"
      ]
     },
     "execution_count": 4,
     "metadata": {},
     "output_type": "execute_result"
    }
   ],
   "source": [
    "permits_df.head(3)"
   ]
  },
  {
   "cell_type": "code",
   "execution_count": 12,
   "metadata": {},
   "outputs": [
    {
     "data": {
      "text/plain": [
       "Index(['Permit Type', 'Permit Type Desc', 'Permit Num', 'Permit Class Mapped',\n",
       "       'Permit Class', 'Work Class', 'Condominium', 'Project Name',\n",
       "       'Description', 'TCAD ID', 'Property Legal Description', 'Applied Date',\n",
       "       'Issued Date', 'Day Issued', 'Calendar Year Issued',\n",
       "       'Fiscal Year Issued', 'Issued In Last 30 Days', 'Issuance Method',\n",
       "       'Status Current', 'Status Date', 'Expires Date', 'Completed Date',\n",
       "       'Total Existing Bldg SQFT', 'Remodel Repair SQFT', 'Total New Add SQFT',\n",
       "       'Total Valuation Remodel', 'Total Job Valuation', 'Number Of Floors',\n",
       "       'Housing Units', 'Building Valuation', 'Building Valuation Remodel',\n",
       "       'Electrical Valuation', 'Electrical Valuation Remodel',\n",
       "       'Mechanical Valuation', 'Mechanical Valuation Remodel',\n",
       "       'Plumbing Valuation', 'Plumbing Valuation Remodel', 'MedGas Valuation',\n",
       "       'MedGas Valuation Remodel', 'Original Address 1', 'Original City',\n",
       "       'Original State', 'Original Zip', 'Council District', 'Jurisdiction',\n",
       "       'Link', 'Project ID', 'Master Permit Num', 'Latitude', 'Longitude',\n",
       "       'Location', 'Contractor Trade', 'Contractor Company Name',\n",
       "       'Contractor Full Name', 'Contractor Phone', 'Contractor Address 1',\n",
       "       'Contractor Address 2', 'Contractor City', 'Contractor Zip',\n",
       "       'Applicant Full Name', 'Applicant Organization', 'Applicant Phone',\n",
       "       'Applicant Address 1', 'Applicant Address 2', 'Applicant City',\n",
       "       'Applicant Zip', 'Certificate Of Occupancy', 'Total Lot SQFT'],\n",
       "      dtype='object')"
      ]
     },
     "execution_count": 12,
     "metadata": {},
     "output_type": "execute_result"
    }
   ],
   "source": [
    "permits_df.columns"
   ]
  },
  {
   "cell_type": "code",
   "execution_count": 16,
   "metadata": {},
   "outputs": [
    {
     "data": {
      "text/plain": [
       "[np.int64(1921),\n",
       " np.int64(1969),\n",
       " np.int64(1970),\n",
       " np.int64(1971),\n",
       " np.int64(1976),\n",
       " np.int64(1977),\n",
       " np.int64(1978),\n",
       " np.int64(1979),\n",
       " np.int64(1980),\n",
       " np.int64(1981),\n",
       " np.int64(1982),\n",
       " np.int64(1983),\n",
       " np.int64(1984),\n",
       " np.int64(1985),\n",
       " np.int64(1986),\n",
       " np.int64(1987),\n",
       " np.int64(1988),\n",
       " np.int64(1989),\n",
       " np.int64(1990),\n",
       " np.int64(1991),\n",
       " np.int64(1992),\n",
       " np.int64(1993),\n",
       " np.int64(1994),\n",
       " np.int64(1995),\n",
       " np.int64(1996),\n",
       " np.int64(1997),\n",
       " np.int64(1998),\n",
       " np.int64(1999),\n",
       " np.int64(2000),\n",
       " np.int64(2001),\n",
       " np.int64(2002),\n",
       " np.int64(2003),\n",
       " np.int64(2004),\n",
       " np.int64(2005),\n",
       " np.int64(2006),\n",
       " np.int64(2007),\n",
       " np.int64(2008),\n",
       " np.int64(2009),\n",
       " np.int64(2010),\n",
       " np.int64(2011),\n",
       " np.int64(2012),\n",
       " np.int64(2013),\n",
       " np.int64(2014),\n",
       " np.int64(2015),\n",
       " np.int64(2016),\n",
       " np.int64(2017),\n",
       " np.int64(2018),\n",
       " np.int64(2019),\n",
       " np.int64(2020),\n",
       " np.int64(2021),\n",
       " np.int64(2022),\n",
       " np.int64(2023),\n",
       " np.int64(2024)]"
      ]
     },
     "execution_count": 16,
     "metadata": {},
     "output_type": "execute_result"
    }
   ],
   "source": [
    "fiscal_years = list(permits_df['Fiscal Year Issued'].unique())\n",
    "fiscal_years.sort()\n",
    "fiscal_years"
   ]
  },
  {
   "cell_type": "code",
   "execution_count": 8,
   "metadata": {},
   "outputs": [
    {
     "data": {
      "text/plain": [
       "array(['Residential', 'Commercial'], dtype=object)"
      ]
     },
     "execution_count": 8,
     "metadata": {},
     "output_type": "execute_result"
    }
   ],
   "source": [
    "permits_df.loc[permits_df['Fiscal Year Issued'] == 2016]['Permit Class Mapped'].unique()"
   ]
  }
 ],
 "metadata": {
  "kernelspec": {
   "display_name": ".venv",
   "language": "python",
   "name": "python3"
  },
  "language_info": {
   "codemirror_mode": {
    "name": "ipython",
    "version": 3
   },
   "file_extension": ".py",
   "mimetype": "text/x-python",
   "name": "python",
   "nbconvert_exporter": "python",
   "pygments_lexer": "ipython3",
   "version": "3.11.9"
  }
 },
 "nbformat": 4,
 "nbformat_minor": 2
}
